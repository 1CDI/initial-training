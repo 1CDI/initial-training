{
 "cells": [
  {
   "cell_type": "markdown",
   "metadata": {},
   "source": [
    "# Pillow 入門\n",
    "\n",
    "Python Imaging Library (PIL) は、Pythonインタープリタで様々な画像ファイル形式をサポートし、\n",
    "強力な画像処理とグラフィック機能を提供するオープンソースライブラリです。\n",
    "PILと略されます。\n",
    "2009年9月にリリースされ、Pythonバージョン1.5から2.7までをサポートしています。\n",
    "PILの開発は2011年に停止され、その後継プロジェクトとしてPillowが進行し、Python 3.xバージョンをサポートしています。"
   ]
  },
  {
   "cell_type": "markdown",
   "metadata": {},
   "source": [
    "## インストール\n",
    "\n",
    "pipを通じてインストールを行います。\n",
    "\n",
    "```\n",
    "    pip install Pillow\n",
    "```\n",
    "\n",
    "Pillowは既に有名なPython画像分析ライブラリです。resize、scaleなどの様々な作業が可能です。最も良い点は、Jupyter Notebookで画像を直接確認でき、変更された画像の確認が非常に簡単であることです。"
   ]
  },
  {
   "cell_type": "markdown",
   "metadata": {},
   "source": [
    "## サポートする画像形式\n",
    "\n",
    "PPM、PNG、JPEG、GIF、TIFF、BMPなどの画像形式をサポートしています。サポートしていないファイル形式は、ライブラリを拡張して新しいファイルデコーダを作成することが可能です。\n",
    "\n",
    "## 機能\n",
    "以下のような機能を提供しています。\n",
    "\n",
    "- ピクセル単位の操作\n",
    "- マスキングと透明度制御\n",
    "- ブラー、輪郭補正、輪郭検出などの画像フィルタ\n",
    "- 明度調整、輝度補正、コントラスト補正、色補正などの画像調整\n",
    "- 画像にテキストを追加\n",
    "- その他"
   ]
  },
  {
   "cell_type": "markdown",
   "metadata": {},
   "source": [
    "## 画像を開く"
   ]
  },
  {
   "cell_type": "markdown",
   "metadata": {},
   "source": [
    "## 画像の属性を取得"
   ]
  },
  {
   "cell_type": "markdown",
   "metadata": {},
   "source": [
    "## 画像のサイズを変更"
   ]
  },
  {
   "cell_type": "markdown",
   "metadata": {},
   "source": [
    "## 画像を回転"
   ]
  },
  {
   "cell_type": "markdown",
   "metadata": {},
   "source": [
    "## 画像を上下，左右に反転 (Flip)"
   ]
  },
  {
   "cell_type": "markdown",
   "metadata": {},
   "source": [
    "## 画像を切り取る (Crop)"
   ]
  },
  {
   "cell_type": "markdown",
   "metadata": {},
   "source": [
    "## ボックスを描画"
   ]
  },
  {
   "cell_type": "markdown",
   "metadata": {},
   "source": [
    "## 画像フィルタリング"
   ]
  },
  {
   "cell_type": "markdown",
   "metadata": {},
   "source": [
    "## 画像を結合"
   ]
  },
  {
   "cell_type": "markdown",
   "metadata": {},
   "source": [
    "## 画像を保存"
   ]
  },
  {
   "cell_type": "markdown",
   "metadata": {},
   "source": [
    "## 画像を Numpy 配列に変換"
   ]
  },
  {
   "cell_type": "markdown",
   "metadata": {},
   "source": [
    "## 画像を画素値に変換"
   ]
  },
  {
   "cell_type": "markdown",
   "metadata": {},
   "source": [
    "## 特定の画素の RGB 値を取得"
   ]
  },
  {
   "cell_type": "markdown",
   "metadata": {},
   "source": []
  }
 ],
 "metadata": {
  "kernelspec": {
   "display_name": "venv",
   "language": "python",
   "name": "python3"
  },
  "language_info": {
   "codemirror_mode": {
    "name": "ipython",
    "version": 3
   },
   "file_extension": ".py",
   "mimetype": "text/x-python",
   "name": "python",
   "nbconvert_exporter": "python",
   "pygments_lexer": "ipython3",
   "version": "3.9.10"
  },
  "orig_nbformat": 4
 },
 "nbformat": 4,
 "nbformat_minor": 2
}
